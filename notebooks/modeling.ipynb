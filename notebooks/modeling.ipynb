{
 "cells": [
  {
   "cell_type": "code",
   "execution_count": 5,
   "metadata": {},
   "outputs": [],
   "source": [
    "import numpy as np\n",
    "import pandas as pd\n",
    "from pycaret.classification import *\n",
    "from pathlib import Path"
   ]
  },
  {
   "cell_type": "code",
   "execution_count": 6,
   "metadata": {},
   "outputs": [],
   "source": [
    "current_dir = Path().absolute()\n",
    "work_dir    = current_dir.parent.absolute()\n",
    "data_dir    = work_dir.joinpath('data').absolute()\n",
    "model_dir   = work_dir.joinpath('models').absolute()"
   ]
  },
  {
   "cell_type": "code",
   "execution_count": 7,
   "metadata": {},
   "outputs": [],
   "source": [
    "df = pd.read_csv(data_dir.joinpath('abt_churn_train.csv'))\n",
    "df_train = df.query('data_ref == \"2018-01-01\"')"
   ]
  },
  {
   "cell_type": "code",
   "execution_count": 5,
   "metadata": {},
   "outputs": [
    {
     "output_type": "execute_result",
     "data": {
      "text/plain": [
       "     data_ref                         seller_id  uf  tot_orders_12m  \\\n",
       "0  2018-01-01  0015a82c2db000af6aaaf3ae2ecb0532  SP               3   \n",
       "1  2018-01-01  001cca7ae9ae17fb1caed9dfb1094831  ES             171   \n",
       "2  2018-01-01  002100f778ceb8431b7a1020ff7ab48f  SP              38   \n",
       "3  2018-01-01  003554e2dce176b5555353e4f3555ac8  GO               1   \n",
       "4  2018-01-01  004c9cd9d87a3c30c522c48c4fc07416  SP             130   \n",
       "\n",
       "   tot_items_12m  tot_items_dist_12m  receita_12m  recencia  churn_6m  \n",
       "0              3                   1      2685.00        74         1  \n",
       "1            207                   9     21275.23         2         0  \n",
       "2             42                  15       781.80         2         0  \n",
       "3              1                   1       120.00        16         1  \n",
       "4            141                  75     16228.88         8         0  "
      ],
      "text/html": "<div>\n<style scoped>\n    .dataframe tbody tr th:only-of-type {\n        vertical-align: middle;\n    }\n\n    .dataframe tbody tr th {\n        vertical-align: top;\n    }\n\n    .dataframe thead th {\n        text-align: right;\n    }\n</style>\n<table border=\"1\" class=\"dataframe\">\n  <thead>\n    <tr style=\"text-align: right;\">\n      <th></th>\n      <th>data_ref</th>\n      <th>seller_id</th>\n      <th>uf</th>\n      <th>tot_orders_12m</th>\n      <th>tot_items_12m</th>\n      <th>tot_items_dist_12m</th>\n      <th>receita_12m</th>\n      <th>recencia</th>\n      <th>churn_6m</th>\n    </tr>\n  </thead>\n  <tbody>\n    <tr>\n      <th>0</th>\n      <td>2018-01-01</td>\n      <td>0015a82c2db000af6aaaf3ae2ecb0532</td>\n      <td>SP</td>\n      <td>3</td>\n      <td>3</td>\n      <td>1</td>\n      <td>2685.00</td>\n      <td>74</td>\n      <td>1</td>\n    </tr>\n    <tr>\n      <th>1</th>\n      <td>2018-01-01</td>\n      <td>001cca7ae9ae17fb1caed9dfb1094831</td>\n      <td>ES</td>\n      <td>171</td>\n      <td>207</td>\n      <td>9</td>\n      <td>21275.23</td>\n      <td>2</td>\n      <td>0</td>\n    </tr>\n    <tr>\n      <th>2</th>\n      <td>2018-01-01</td>\n      <td>002100f778ceb8431b7a1020ff7ab48f</td>\n      <td>SP</td>\n      <td>38</td>\n      <td>42</td>\n      <td>15</td>\n      <td>781.80</td>\n      <td>2</td>\n      <td>0</td>\n    </tr>\n    <tr>\n      <th>3</th>\n      <td>2018-01-01</td>\n      <td>003554e2dce176b5555353e4f3555ac8</td>\n      <td>GO</td>\n      <td>1</td>\n      <td>1</td>\n      <td>1</td>\n      <td>120.00</td>\n      <td>16</td>\n      <td>1</td>\n    </tr>\n    <tr>\n      <th>4</th>\n      <td>2018-01-01</td>\n      <td>004c9cd9d87a3c30c522c48c4fc07416</td>\n      <td>SP</td>\n      <td>130</td>\n      <td>141</td>\n      <td>75</td>\n      <td>16228.88</td>\n      <td>8</td>\n      <td>0</td>\n    </tr>\n  </tbody>\n</table>\n</div>"
     },
     "metadata": {},
     "execution_count": 5
    }
   ],
   "source": [
    "df_train.head()"
   ]
  },
  {
   "cell_type": "code",
   "execution_count": 6,
   "metadata": {},
   "outputs": [
    {
     "output_type": "stream",
     "name": "stdout",
     "text": [
      "Setup Succesfully Completed!\n"
     ]
    },
    {
     "output_type": "display_data",
     "data": {
      "text/plain": "<pandas.io.formats.style.Styler at 0x1ef5e5018d0>",
      "text/html": "<style  type=\"text/css\" >\n</style><table id=\"T_9bafbc64_1869_11eb_a155_c03eba8a7114\" ><thead>    <tr>        <th class=\"blank level0\" ></th>        <th class=\"col_heading level0 col0\" >Description</th>        <th class=\"col_heading level0 col1\" >Value</th>    </tr></thead><tbody>\n                <tr>\n                        <th id=\"T_9bafbc64_1869_11eb_a155_c03eba8a7114level0_row0\" class=\"row_heading level0 row0\" >0</th>\n                        <td id=\"T_9bafbc64_1869_11eb_a155_c03eba8a7114row0_col0\" class=\"data row0 col0\" >session_id</td>\n                        <td id=\"T_9bafbc64_1869_11eb_a155_c03eba8a7114row0_col1\" class=\"data row0 col1\" >2020</td>\n            </tr>\n            <tr>\n                        <th id=\"T_9bafbc64_1869_11eb_a155_c03eba8a7114level0_row1\" class=\"row_heading level0 row1\" >1</th>\n                        <td id=\"T_9bafbc64_1869_11eb_a155_c03eba8a7114row1_col0\" class=\"data row1 col0\" >Target Type</td>\n                        <td id=\"T_9bafbc64_1869_11eb_a155_c03eba8a7114row1_col1\" class=\"data row1 col1\" >Binary</td>\n            </tr>\n            <tr>\n                        <th id=\"T_9bafbc64_1869_11eb_a155_c03eba8a7114level0_row2\" class=\"row_heading level0 row2\" >2</th>\n                        <td id=\"T_9bafbc64_1869_11eb_a155_c03eba8a7114row2_col0\" class=\"data row2 col0\" >Label Encoded</td>\n                        <td id=\"T_9bafbc64_1869_11eb_a155_c03eba8a7114row2_col1\" class=\"data row2 col1\" >0: 0, 1: 1</td>\n            </tr>\n            <tr>\n                        <th id=\"T_9bafbc64_1869_11eb_a155_c03eba8a7114level0_row3\" class=\"row_heading level0 row3\" >3</th>\n                        <td id=\"T_9bafbc64_1869_11eb_a155_c03eba8a7114row3_col0\" class=\"data row3 col0\" >Original Data</td>\n                        <td id=\"T_9bafbc64_1869_11eb_a155_c03eba8a7114row3_col1\" class=\"data row3 col1\" >(1690, 9)</td>\n            </tr>\n            <tr>\n                        <th id=\"T_9bafbc64_1869_11eb_a155_c03eba8a7114level0_row4\" class=\"row_heading level0 row4\" >4</th>\n                        <td id=\"T_9bafbc64_1869_11eb_a155_c03eba8a7114row4_col0\" class=\"data row4 col0\" >Missing Values </td>\n                        <td id=\"T_9bafbc64_1869_11eb_a155_c03eba8a7114row4_col1\" class=\"data row4 col1\" >False</td>\n            </tr>\n            <tr>\n                        <th id=\"T_9bafbc64_1869_11eb_a155_c03eba8a7114level0_row5\" class=\"row_heading level0 row5\" >5</th>\n                        <td id=\"T_9bafbc64_1869_11eb_a155_c03eba8a7114row5_col0\" class=\"data row5 col0\" >Numeric Features </td>\n                        <td id=\"T_9bafbc64_1869_11eb_a155_c03eba8a7114row5_col1\" class=\"data row5 col1\" >5</td>\n            </tr>\n            <tr>\n                        <th id=\"T_9bafbc64_1869_11eb_a155_c03eba8a7114level0_row6\" class=\"row_heading level0 row6\" >6</th>\n                        <td id=\"T_9bafbc64_1869_11eb_a155_c03eba8a7114row6_col0\" class=\"data row6 col0\" >Categorical Features </td>\n                        <td id=\"T_9bafbc64_1869_11eb_a155_c03eba8a7114row6_col1\" class=\"data row6 col1\" >2</td>\n            </tr>\n            <tr>\n                        <th id=\"T_9bafbc64_1869_11eb_a155_c03eba8a7114level0_row7\" class=\"row_heading level0 row7\" >7</th>\n                        <td id=\"T_9bafbc64_1869_11eb_a155_c03eba8a7114row7_col0\" class=\"data row7 col0\" >Ordinal Features </td>\n                        <td id=\"T_9bafbc64_1869_11eb_a155_c03eba8a7114row7_col1\" class=\"data row7 col1\" >False</td>\n            </tr>\n            <tr>\n                        <th id=\"T_9bafbc64_1869_11eb_a155_c03eba8a7114level0_row8\" class=\"row_heading level0 row8\" >8</th>\n                        <td id=\"T_9bafbc64_1869_11eb_a155_c03eba8a7114row8_col0\" class=\"data row8 col0\" >High Cardinality Features </td>\n                        <td id=\"T_9bafbc64_1869_11eb_a155_c03eba8a7114row8_col1\" class=\"data row8 col1\" >False</td>\n            </tr>\n            <tr>\n                        <th id=\"T_9bafbc64_1869_11eb_a155_c03eba8a7114level0_row9\" class=\"row_heading level0 row9\" >9</th>\n                        <td id=\"T_9bafbc64_1869_11eb_a155_c03eba8a7114row9_col0\" class=\"data row9 col0\" >High Cardinality Method </td>\n                        <td id=\"T_9bafbc64_1869_11eb_a155_c03eba8a7114row9_col1\" class=\"data row9 col1\" >None</td>\n            </tr>\n            <tr>\n                        <th id=\"T_9bafbc64_1869_11eb_a155_c03eba8a7114level0_row10\" class=\"row_heading level0 row10\" >10</th>\n                        <td id=\"T_9bafbc64_1869_11eb_a155_c03eba8a7114row10_col0\" class=\"data row10 col0\" >Sampled Data</td>\n                        <td id=\"T_9bafbc64_1869_11eb_a155_c03eba8a7114row10_col1\" class=\"data row10 col1\" >(1690, 9)</td>\n            </tr>\n            <tr>\n                        <th id=\"T_9bafbc64_1869_11eb_a155_c03eba8a7114level0_row11\" class=\"row_heading level0 row11\" >11</th>\n                        <td id=\"T_9bafbc64_1869_11eb_a155_c03eba8a7114row11_col0\" class=\"data row11 col0\" >Transformed Train Set</td>\n                        <td id=\"T_9bafbc64_1869_11eb_a155_c03eba8a7114row11_col1\" class=\"data row11 col1\" >(1182, 25)</td>\n            </tr>\n            <tr>\n                        <th id=\"T_9bafbc64_1869_11eb_a155_c03eba8a7114level0_row12\" class=\"row_heading level0 row12\" >12</th>\n                        <td id=\"T_9bafbc64_1869_11eb_a155_c03eba8a7114row12_col0\" class=\"data row12 col0\" >Transformed Test Set</td>\n                        <td id=\"T_9bafbc64_1869_11eb_a155_c03eba8a7114row12_col1\" class=\"data row12 col1\" >(508, 25)</td>\n            </tr>\n            <tr>\n                        <th id=\"T_9bafbc64_1869_11eb_a155_c03eba8a7114level0_row13\" class=\"row_heading level0 row13\" >13</th>\n                        <td id=\"T_9bafbc64_1869_11eb_a155_c03eba8a7114row13_col0\" class=\"data row13 col0\" >Numeric Imputer </td>\n                        <td id=\"T_9bafbc64_1869_11eb_a155_c03eba8a7114row13_col1\" class=\"data row13 col1\" >mean</td>\n            </tr>\n            <tr>\n                        <th id=\"T_9bafbc64_1869_11eb_a155_c03eba8a7114level0_row14\" class=\"row_heading level0 row14\" >14</th>\n                        <td id=\"T_9bafbc64_1869_11eb_a155_c03eba8a7114row14_col0\" class=\"data row14 col0\" >Categorical Imputer </td>\n                        <td id=\"T_9bafbc64_1869_11eb_a155_c03eba8a7114row14_col1\" class=\"data row14 col1\" >constant</td>\n            </tr>\n            <tr>\n                        <th id=\"T_9bafbc64_1869_11eb_a155_c03eba8a7114level0_row15\" class=\"row_heading level0 row15\" >15</th>\n                        <td id=\"T_9bafbc64_1869_11eb_a155_c03eba8a7114row15_col0\" class=\"data row15 col0\" >Normalize </td>\n                        <td id=\"T_9bafbc64_1869_11eb_a155_c03eba8a7114row15_col1\" class=\"data row15 col1\" >False</td>\n            </tr>\n            <tr>\n                        <th id=\"T_9bafbc64_1869_11eb_a155_c03eba8a7114level0_row16\" class=\"row_heading level0 row16\" >16</th>\n                        <td id=\"T_9bafbc64_1869_11eb_a155_c03eba8a7114row16_col0\" class=\"data row16 col0\" >Normalize Method </td>\n                        <td id=\"T_9bafbc64_1869_11eb_a155_c03eba8a7114row16_col1\" class=\"data row16 col1\" >None</td>\n            </tr>\n            <tr>\n                        <th id=\"T_9bafbc64_1869_11eb_a155_c03eba8a7114level0_row17\" class=\"row_heading level0 row17\" >17</th>\n                        <td id=\"T_9bafbc64_1869_11eb_a155_c03eba8a7114row17_col0\" class=\"data row17 col0\" >Transformation </td>\n                        <td id=\"T_9bafbc64_1869_11eb_a155_c03eba8a7114row17_col1\" class=\"data row17 col1\" >False</td>\n            </tr>\n            <tr>\n                        <th id=\"T_9bafbc64_1869_11eb_a155_c03eba8a7114level0_row18\" class=\"row_heading level0 row18\" >18</th>\n                        <td id=\"T_9bafbc64_1869_11eb_a155_c03eba8a7114row18_col0\" class=\"data row18 col0\" >Transformation Method </td>\n                        <td id=\"T_9bafbc64_1869_11eb_a155_c03eba8a7114row18_col1\" class=\"data row18 col1\" >None</td>\n            </tr>\n            <tr>\n                        <th id=\"T_9bafbc64_1869_11eb_a155_c03eba8a7114level0_row19\" class=\"row_heading level0 row19\" >19</th>\n                        <td id=\"T_9bafbc64_1869_11eb_a155_c03eba8a7114row19_col0\" class=\"data row19 col0\" >PCA </td>\n                        <td id=\"T_9bafbc64_1869_11eb_a155_c03eba8a7114row19_col1\" class=\"data row19 col1\" >False</td>\n            </tr>\n            <tr>\n                        <th id=\"T_9bafbc64_1869_11eb_a155_c03eba8a7114level0_row20\" class=\"row_heading level0 row20\" >20</th>\n                        <td id=\"T_9bafbc64_1869_11eb_a155_c03eba8a7114row20_col0\" class=\"data row20 col0\" >PCA Method </td>\n                        <td id=\"T_9bafbc64_1869_11eb_a155_c03eba8a7114row20_col1\" class=\"data row20 col1\" >None</td>\n            </tr>\n            <tr>\n                        <th id=\"T_9bafbc64_1869_11eb_a155_c03eba8a7114level0_row21\" class=\"row_heading level0 row21\" >21</th>\n                        <td id=\"T_9bafbc64_1869_11eb_a155_c03eba8a7114row21_col0\" class=\"data row21 col0\" >PCA Components </td>\n                        <td id=\"T_9bafbc64_1869_11eb_a155_c03eba8a7114row21_col1\" class=\"data row21 col1\" >None</td>\n            </tr>\n            <tr>\n                        <th id=\"T_9bafbc64_1869_11eb_a155_c03eba8a7114level0_row22\" class=\"row_heading level0 row22\" >22</th>\n                        <td id=\"T_9bafbc64_1869_11eb_a155_c03eba8a7114row22_col0\" class=\"data row22 col0\" >Ignore Low Variance </td>\n                        <td id=\"T_9bafbc64_1869_11eb_a155_c03eba8a7114row22_col1\" class=\"data row22 col1\" >False</td>\n            </tr>\n            <tr>\n                        <th id=\"T_9bafbc64_1869_11eb_a155_c03eba8a7114level0_row23\" class=\"row_heading level0 row23\" >23</th>\n                        <td id=\"T_9bafbc64_1869_11eb_a155_c03eba8a7114row23_col0\" class=\"data row23 col0\" >Combine Rare Levels </td>\n                        <td id=\"T_9bafbc64_1869_11eb_a155_c03eba8a7114row23_col1\" class=\"data row23 col1\" >False</td>\n            </tr>\n            <tr>\n                        <th id=\"T_9bafbc64_1869_11eb_a155_c03eba8a7114level0_row24\" class=\"row_heading level0 row24\" >24</th>\n                        <td id=\"T_9bafbc64_1869_11eb_a155_c03eba8a7114row24_col0\" class=\"data row24 col0\" >Rare Level Threshold </td>\n                        <td id=\"T_9bafbc64_1869_11eb_a155_c03eba8a7114row24_col1\" class=\"data row24 col1\" >None</td>\n            </tr>\n            <tr>\n                        <th id=\"T_9bafbc64_1869_11eb_a155_c03eba8a7114level0_row25\" class=\"row_heading level0 row25\" >25</th>\n                        <td id=\"T_9bafbc64_1869_11eb_a155_c03eba8a7114row25_col0\" class=\"data row25 col0\" >Numeric Binning </td>\n                        <td id=\"T_9bafbc64_1869_11eb_a155_c03eba8a7114row25_col1\" class=\"data row25 col1\" >False</td>\n            </tr>\n            <tr>\n                        <th id=\"T_9bafbc64_1869_11eb_a155_c03eba8a7114level0_row26\" class=\"row_heading level0 row26\" >26</th>\n                        <td id=\"T_9bafbc64_1869_11eb_a155_c03eba8a7114row26_col0\" class=\"data row26 col0\" >Remove Outliers </td>\n                        <td id=\"T_9bafbc64_1869_11eb_a155_c03eba8a7114row26_col1\" class=\"data row26 col1\" >False</td>\n            </tr>\n            <tr>\n                        <th id=\"T_9bafbc64_1869_11eb_a155_c03eba8a7114level0_row27\" class=\"row_heading level0 row27\" >27</th>\n                        <td id=\"T_9bafbc64_1869_11eb_a155_c03eba8a7114row27_col0\" class=\"data row27 col0\" >Outliers Threshold </td>\n                        <td id=\"T_9bafbc64_1869_11eb_a155_c03eba8a7114row27_col1\" class=\"data row27 col1\" >None</td>\n            </tr>\n            <tr>\n                        <th id=\"T_9bafbc64_1869_11eb_a155_c03eba8a7114level0_row28\" class=\"row_heading level0 row28\" >28</th>\n                        <td id=\"T_9bafbc64_1869_11eb_a155_c03eba8a7114row28_col0\" class=\"data row28 col0\" >Remove Multicollinearity </td>\n                        <td id=\"T_9bafbc64_1869_11eb_a155_c03eba8a7114row28_col1\" class=\"data row28 col1\" >False</td>\n            </tr>\n            <tr>\n                        <th id=\"T_9bafbc64_1869_11eb_a155_c03eba8a7114level0_row29\" class=\"row_heading level0 row29\" >29</th>\n                        <td id=\"T_9bafbc64_1869_11eb_a155_c03eba8a7114row29_col0\" class=\"data row29 col0\" >Multicollinearity Threshold </td>\n                        <td id=\"T_9bafbc64_1869_11eb_a155_c03eba8a7114row29_col1\" class=\"data row29 col1\" >None</td>\n            </tr>\n            <tr>\n                        <th id=\"T_9bafbc64_1869_11eb_a155_c03eba8a7114level0_row30\" class=\"row_heading level0 row30\" >30</th>\n                        <td id=\"T_9bafbc64_1869_11eb_a155_c03eba8a7114row30_col0\" class=\"data row30 col0\" >Clustering </td>\n                        <td id=\"T_9bafbc64_1869_11eb_a155_c03eba8a7114row30_col1\" class=\"data row30 col1\" >False</td>\n            </tr>\n            <tr>\n                        <th id=\"T_9bafbc64_1869_11eb_a155_c03eba8a7114level0_row31\" class=\"row_heading level0 row31\" >31</th>\n                        <td id=\"T_9bafbc64_1869_11eb_a155_c03eba8a7114row31_col0\" class=\"data row31 col0\" >Clustering Iteration </td>\n                        <td id=\"T_9bafbc64_1869_11eb_a155_c03eba8a7114row31_col1\" class=\"data row31 col1\" >None</td>\n            </tr>\n            <tr>\n                        <th id=\"T_9bafbc64_1869_11eb_a155_c03eba8a7114level0_row32\" class=\"row_heading level0 row32\" >32</th>\n                        <td id=\"T_9bafbc64_1869_11eb_a155_c03eba8a7114row32_col0\" class=\"data row32 col0\" >Polynomial Features </td>\n                        <td id=\"T_9bafbc64_1869_11eb_a155_c03eba8a7114row32_col1\" class=\"data row32 col1\" >False</td>\n            </tr>\n            <tr>\n                        <th id=\"T_9bafbc64_1869_11eb_a155_c03eba8a7114level0_row33\" class=\"row_heading level0 row33\" >33</th>\n                        <td id=\"T_9bafbc64_1869_11eb_a155_c03eba8a7114row33_col0\" class=\"data row33 col0\" >Polynomial Degree </td>\n                        <td id=\"T_9bafbc64_1869_11eb_a155_c03eba8a7114row33_col1\" class=\"data row33 col1\" >None</td>\n            </tr>\n            <tr>\n                        <th id=\"T_9bafbc64_1869_11eb_a155_c03eba8a7114level0_row34\" class=\"row_heading level0 row34\" >34</th>\n                        <td id=\"T_9bafbc64_1869_11eb_a155_c03eba8a7114row34_col0\" class=\"data row34 col0\" >Trignometry Features </td>\n                        <td id=\"T_9bafbc64_1869_11eb_a155_c03eba8a7114row34_col1\" class=\"data row34 col1\" >False</td>\n            </tr>\n            <tr>\n                        <th id=\"T_9bafbc64_1869_11eb_a155_c03eba8a7114level0_row35\" class=\"row_heading level0 row35\" >35</th>\n                        <td id=\"T_9bafbc64_1869_11eb_a155_c03eba8a7114row35_col0\" class=\"data row35 col0\" >Polynomial Threshold </td>\n                        <td id=\"T_9bafbc64_1869_11eb_a155_c03eba8a7114row35_col1\" class=\"data row35 col1\" >None</td>\n            </tr>\n            <tr>\n                        <th id=\"T_9bafbc64_1869_11eb_a155_c03eba8a7114level0_row36\" class=\"row_heading level0 row36\" >36</th>\n                        <td id=\"T_9bafbc64_1869_11eb_a155_c03eba8a7114row36_col0\" class=\"data row36 col0\" >Group Features </td>\n                        <td id=\"T_9bafbc64_1869_11eb_a155_c03eba8a7114row36_col1\" class=\"data row36 col1\" >False</td>\n            </tr>\n            <tr>\n                        <th id=\"T_9bafbc64_1869_11eb_a155_c03eba8a7114level0_row37\" class=\"row_heading level0 row37\" >37</th>\n                        <td id=\"T_9bafbc64_1869_11eb_a155_c03eba8a7114row37_col0\" class=\"data row37 col0\" >Feature Selection </td>\n                        <td id=\"T_9bafbc64_1869_11eb_a155_c03eba8a7114row37_col1\" class=\"data row37 col1\" >False</td>\n            </tr>\n            <tr>\n                        <th id=\"T_9bafbc64_1869_11eb_a155_c03eba8a7114level0_row38\" class=\"row_heading level0 row38\" >38</th>\n                        <td id=\"T_9bafbc64_1869_11eb_a155_c03eba8a7114row38_col0\" class=\"data row38 col0\" >Features Selection Threshold </td>\n                        <td id=\"T_9bafbc64_1869_11eb_a155_c03eba8a7114row38_col1\" class=\"data row38 col1\" >None</td>\n            </tr>\n            <tr>\n                        <th id=\"T_9bafbc64_1869_11eb_a155_c03eba8a7114level0_row39\" class=\"row_heading level0 row39\" >39</th>\n                        <td id=\"T_9bafbc64_1869_11eb_a155_c03eba8a7114row39_col0\" class=\"data row39 col0\" >Feature Interaction </td>\n                        <td id=\"T_9bafbc64_1869_11eb_a155_c03eba8a7114row39_col1\" class=\"data row39 col1\" >False</td>\n            </tr>\n            <tr>\n                        <th id=\"T_9bafbc64_1869_11eb_a155_c03eba8a7114level0_row40\" class=\"row_heading level0 row40\" >40</th>\n                        <td id=\"T_9bafbc64_1869_11eb_a155_c03eba8a7114row40_col0\" class=\"data row40 col0\" >Feature Ratio </td>\n                        <td id=\"T_9bafbc64_1869_11eb_a155_c03eba8a7114row40_col1\" class=\"data row40 col1\" >False</td>\n            </tr>\n            <tr>\n                        <th id=\"T_9bafbc64_1869_11eb_a155_c03eba8a7114level0_row41\" class=\"row_heading level0 row41\" >41</th>\n                        <td id=\"T_9bafbc64_1869_11eb_a155_c03eba8a7114row41_col0\" class=\"data row41 col0\" >Interaction Threshold </td>\n                        <td id=\"T_9bafbc64_1869_11eb_a155_c03eba8a7114row41_col1\" class=\"data row41 col1\" >None</td>\n            </tr>\n            <tr>\n                        <th id=\"T_9bafbc64_1869_11eb_a155_c03eba8a7114level0_row42\" class=\"row_heading level0 row42\" >42</th>\n                        <td id=\"T_9bafbc64_1869_11eb_a155_c03eba8a7114row42_col0\" class=\"data row42 col0\" >Fix Imbalance</td>\n                        <td id=\"T_9bafbc64_1869_11eb_a155_c03eba8a7114row42_col1\" class=\"data row42 col1\" >False</td>\n            </tr>\n            <tr>\n                        <th id=\"T_9bafbc64_1869_11eb_a155_c03eba8a7114level0_row43\" class=\"row_heading level0 row43\" >43</th>\n                        <td id=\"T_9bafbc64_1869_11eb_a155_c03eba8a7114row43_col0\" class=\"data row43 col0\" >Fix Imbalance Method</td>\n                        <td id=\"T_9bafbc64_1869_11eb_a155_c03eba8a7114row43_col1\" class=\"data row43 col1\" >SMOTE</td>\n            </tr>\n    </tbody></table>"
     },
     "metadata": {}
    }
   ],
   "source": [
    "cat_vars = ['uf']\n",
    "num_vars = ['tot_orders_12m', 'tot_items_12m', 'tot_items_dist_12m', 'receita_12m', 'recencia']\n",
    "cols_to_remove = ['data_ref', 'seller_id']\n",
    "\n",
    "train_setup = setup(data=df_train, target='churn_6m', ignore_features=cols_to_remove, \n",
    "                    categorical_features=cat_vars, numeric_features=num_vars, session_id=2020)"
   ]
  },
  {
   "cell_type": "code",
   "execution_count": 8,
   "metadata": {},
   "outputs": [
    {
     "output_type": "display_data",
     "data": {
      "text/plain": "<pandas.io.formats.style.Styler at 0x1ef5e2ab198>",
      "text/html": "<style  type=\"text/css\" >\n#T_c46fafbe_1869_11eb_94ad_c03eba8a7114row5_col0,#T_c46fafbe_1869_11eb_94ad_c03eba8a7114row5_col1,#T_c46fafbe_1869_11eb_94ad_c03eba8a7114row5_col2,#T_c46fafbe_1869_11eb_94ad_c03eba8a7114row5_col3,#T_c46fafbe_1869_11eb_94ad_c03eba8a7114row5_col4,#T_c46fafbe_1869_11eb_94ad_c03eba8a7114row5_col5,#T_c46fafbe_1869_11eb_94ad_c03eba8a7114row5_col6{\n            background:  yellow;\n        }</style><table id=\"T_c46fafbe_1869_11eb_94ad_c03eba8a7114\" ><thead>    <tr>        <th class=\"blank level0\" ></th>        <th class=\"col_heading level0 col0\" >Accuracy</th>        <th class=\"col_heading level0 col1\" >AUC</th>        <th class=\"col_heading level0 col2\" >Recall</th>        <th class=\"col_heading level0 col3\" >Prec.</th>        <th class=\"col_heading level0 col4\" >F1</th>        <th class=\"col_heading level0 col5\" >Kappa</th>        <th class=\"col_heading level0 col6\" >MCC</th>    </tr></thead><tbody>\n                <tr>\n                        <th id=\"T_c46fafbe_1869_11eb_94ad_c03eba8a7114level0_row0\" class=\"row_heading level0 row0\" >0</th>\n                        <td id=\"T_c46fafbe_1869_11eb_94ad_c03eba8a7114row0_col0\" class=\"data row0 col0\" >0.7890</td>\n                        <td id=\"T_c46fafbe_1869_11eb_94ad_c03eba8a7114row0_col1\" class=\"data row0 col1\" >0.8578</td>\n                        <td id=\"T_c46fafbe_1869_11eb_94ad_c03eba8a7114row0_col2\" class=\"data row0 col2\" >0.7191</td>\n                        <td id=\"T_c46fafbe_1869_11eb_94ad_c03eba8a7114row0_col3\" class=\"data row0 col3\" >0.7191</td>\n                        <td id=\"T_c46fafbe_1869_11eb_94ad_c03eba8a7114row0_col4\" class=\"data row0 col4\" >0.7191</td>\n                        <td id=\"T_c46fafbe_1869_11eb_94ad_c03eba8a7114row0_col5\" class=\"data row0 col5\" >0.5502</td>\n                        <td id=\"T_c46fafbe_1869_11eb_94ad_c03eba8a7114row0_col6\" class=\"data row0 col6\" >0.5502</td>\n            </tr>\n            <tr>\n                        <th id=\"T_c46fafbe_1869_11eb_94ad_c03eba8a7114level0_row1\" class=\"row_heading level0 row1\" >1</th>\n                        <td id=\"T_c46fafbe_1869_11eb_94ad_c03eba8a7114row1_col0\" class=\"data row1 col0\" >0.8270</td>\n                        <td id=\"T_c46fafbe_1869_11eb_94ad_c03eba8a7114row1_col1\" class=\"data row1 col1\" >0.8783</td>\n                        <td id=\"T_c46fafbe_1869_11eb_94ad_c03eba8a7114row1_col2\" class=\"data row1 col2\" >0.7528</td>\n                        <td id=\"T_c46fafbe_1869_11eb_94ad_c03eba8a7114row1_col3\" class=\"data row1 col3\" >0.7791</td>\n                        <td id=\"T_c46fafbe_1869_11eb_94ad_c03eba8a7114row1_col4\" class=\"data row1 col4\" >0.7657</td>\n                        <td id=\"T_c46fafbe_1869_11eb_94ad_c03eba8a7114row1_col5\" class=\"data row1 col5\" >0.6287</td>\n                        <td id=\"T_c46fafbe_1869_11eb_94ad_c03eba8a7114row1_col6\" class=\"data row1 col6\" >0.6289</td>\n            </tr>\n            <tr>\n                        <th id=\"T_c46fafbe_1869_11eb_94ad_c03eba8a7114level0_row2\" class=\"row_heading level0 row2\" >2</th>\n                        <td id=\"T_c46fafbe_1869_11eb_94ad_c03eba8a7114row2_col0\" class=\"data row2 col0\" >0.7881</td>\n                        <td id=\"T_c46fafbe_1869_11eb_94ad_c03eba8a7114row2_col1\" class=\"data row2 col1\" >0.8508</td>\n                        <td id=\"T_c46fafbe_1869_11eb_94ad_c03eba8a7114row2_col2\" class=\"data row2 col2\" >0.6742</td>\n                        <td id=\"T_c46fafbe_1869_11eb_94ad_c03eba8a7114row2_col3\" class=\"data row2 col3\" >0.7407</td>\n                        <td id=\"T_c46fafbe_1869_11eb_94ad_c03eba8a7114row2_col4\" class=\"data row2 col4\" >0.7059</td>\n                        <td id=\"T_c46fafbe_1869_11eb_94ad_c03eba8a7114row2_col5\" class=\"data row2 col5\" >0.5409</td>\n                        <td id=\"T_c46fafbe_1869_11eb_94ad_c03eba8a7114row2_col6\" class=\"data row2 col6\" >0.5424</td>\n            </tr>\n            <tr>\n                        <th id=\"T_c46fafbe_1869_11eb_94ad_c03eba8a7114level0_row3\" class=\"row_heading level0 row3\" >3</th>\n                        <td id=\"T_c46fafbe_1869_11eb_94ad_c03eba8a7114row3_col0\" class=\"data row3 col0\" >0.7966</td>\n                        <td id=\"T_c46fafbe_1869_11eb_94ad_c03eba8a7114row3_col1\" class=\"data row3 col1\" >0.8896</td>\n                        <td id=\"T_c46fafbe_1869_11eb_94ad_c03eba8a7114row3_col2\" class=\"data row3 col2\" >0.6629</td>\n                        <td id=\"T_c46fafbe_1869_11eb_94ad_c03eba8a7114row3_col3\" class=\"data row3 col3\" >0.7662</td>\n                        <td id=\"T_c46fafbe_1869_11eb_94ad_c03eba8a7114row3_col4\" class=\"data row3 col4\" >0.7108</td>\n                        <td id=\"T_c46fafbe_1869_11eb_94ad_c03eba8a7114row3_col5\" class=\"data row3 col5\" >0.5552</td>\n                        <td id=\"T_c46fafbe_1869_11eb_94ad_c03eba8a7114row3_col6\" class=\"data row3 col6\" >0.5587</td>\n            </tr>\n            <tr>\n                        <th id=\"T_c46fafbe_1869_11eb_94ad_c03eba8a7114level0_row4\" class=\"row_heading level0 row4\" >4</th>\n                        <td id=\"T_c46fafbe_1869_11eb_94ad_c03eba8a7114row4_col0\" class=\"data row4 col0\" >0.7881</td>\n                        <td id=\"T_c46fafbe_1869_11eb_94ad_c03eba8a7114row4_col1\" class=\"data row4 col1\" >0.8759</td>\n                        <td id=\"T_c46fafbe_1869_11eb_94ad_c03eba8a7114row4_col2\" class=\"data row4 col2\" >0.7416</td>\n                        <td id=\"T_c46fafbe_1869_11eb_94ad_c03eba8a7114row4_col3\" class=\"data row4 col3\" >0.7097</td>\n                        <td id=\"T_c46fafbe_1869_11eb_94ad_c03eba8a7114row4_col4\" class=\"data row4 col4\" >0.7253</td>\n                        <td id=\"T_c46fafbe_1869_11eb_94ad_c03eba8a7114row4_col5\" class=\"data row4 col5\" >0.5530</td>\n                        <td id=\"T_c46fafbe_1869_11eb_94ad_c03eba8a7114row4_col6\" class=\"data row4 col6\" >0.5534</td>\n            </tr>\n            <tr>\n                        <th id=\"T_c46fafbe_1869_11eb_94ad_c03eba8a7114level0_row5\" class=\"row_heading level0 row5\" >Mean</th>\n                        <td id=\"T_c46fafbe_1869_11eb_94ad_c03eba8a7114row5_col0\" class=\"data row5 col0\" >0.7978</td>\n                        <td id=\"T_c46fafbe_1869_11eb_94ad_c03eba8a7114row5_col1\" class=\"data row5 col1\" >0.8705</td>\n                        <td id=\"T_c46fafbe_1869_11eb_94ad_c03eba8a7114row5_col2\" class=\"data row5 col2\" >0.7101</td>\n                        <td id=\"T_c46fafbe_1869_11eb_94ad_c03eba8a7114row5_col3\" class=\"data row5 col3\" >0.7430</td>\n                        <td id=\"T_c46fafbe_1869_11eb_94ad_c03eba8a7114row5_col4\" class=\"data row5 col4\" >0.7254</td>\n                        <td id=\"T_c46fafbe_1869_11eb_94ad_c03eba8a7114row5_col5\" class=\"data row5 col5\" >0.5656</td>\n                        <td id=\"T_c46fafbe_1869_11eb_94ad_c03eba8a7114row5_col6\" class=\"data row5 col6\" >0.5667</td>\n            </tr>\n            <tr>\n                        <th id=\"T_c46fafbe_1869_11eb_94ad_c03eba8a7114level0_row6\" class=\"row_heading level0 row6\" >SD</th>\n                        <td id=\"T_c46fafbe_1869_11eb_94ad_c03eba8a7114row6_col0\" class=\"data row6 col0\" >0.0150</td>\n                        <td id=\"T_c46fafbe_1869_11eb_94ad_c03eba8a7114row6_col1\" class=\"data row6 col1\" >0.0142</td>\n                        <td id=\"T_c46fafbe_1869_11eb_94ad_c03eba8a7114row6_col2\" class=\"data row6 col2\" >0.0358</td>\n                        <td id=\"T_c46fafbe_1869_11eb_94ad_c03eba8a7114row6_col3\" class=\"data row6 col3\" >0.0266</td>\n                        <td id=\"T_c46fafbe_1869_11eb_94ad_c03eba8a7114row6_col4\" class=\"data row6 col4\" >0.0212</td>\n                        <td id=\"T_c46fafbe_1869_11eb_94ad_c03eba8a7114row6_col5\" class=\"data row6 col5\" >0.0319</td>\n                        <td id=\"T_c46fafbe_1869_11eb_94ad_c03eba8a7114row6_col6\" class=\"data row6 col6\" >0.0315</td>\n            </tr>\n    </tbody></table>"
     },
     "metadata": {}
    }
   ],
   "source": [
    "xgboost = create_model('xgboost', fold=5)"
   ]
  },
  {
   "cell_type": "code",
   "execution_count": 11,
   "metadata": {},
   "outputs": [],
   "source": [
    "final_model = finalize_model(xgboost)"
   ]
  },
  {
   "cell_type": "code",
   "execution_count": 12,
   "metadata": {},
   "outputs": [
    {
     "output_type": "stream",
     "name": "stdout",
     "text": [
      "Transformation Pipeline and Model Succesfully Saved\n"
     ]
    }
   ],
   "source": [
    "save_model(final_model, str(model_dir.joinpath('model_churn')))"
   ]
  },
  {
   "cell_type": "code",
   "execution_count": null,
   "metadata": {},
   "outputs": [],
   "source": []
  }
 ],
 "metadata": {
  "kernelspec": {
   "name": "Python 3.6.9 64-bit ('churn_deploy': conda)",
   "display_name": "Python 3.6.9 64-bit ('churn_deploy': conda)",
   "metadata": {
    "interpreter": {
     "hash": "f19b4914a59773f925a5725895b50604786dc6fdca3b52591146669ed342171e"
    }
   }
  },
  "language_info": {
   "codemirror_mode": {
    "name": "ipython",
    "version": 3
   },
   "file_extension": ".py",
   "mimetype": "text/x-python",
   "name": "python",
   "nbconvert_exporter": "python",
   "pygments_lexer": "ipython3",
   "version": "3.6.9-final"
  }
 },
 "nbformat": 4,
 "nbformat_minor": 2
}